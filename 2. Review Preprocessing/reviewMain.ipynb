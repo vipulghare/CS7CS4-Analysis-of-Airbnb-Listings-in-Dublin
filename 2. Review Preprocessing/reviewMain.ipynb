{
 "cells": [
  {
   "cell_type": "code",
   "execution_count": 64,
   "id": "fba271fd",
   "metadata": {},
   "outputs": [],
   "source": [
    "import pandas as pd\n",
    "from deep_translator import GoogleTranslator\n",
    "import pycld2 as cld2"
   ]
  },
  {
   "cell_type": "code",
   "execution_count": 65,
   "id": "f0661d8a",
   "metadata": {},
   "outputs": [],
   "source": [
    "df = pd.read_csv(\"reviews.csv\")"
   ]
  },
  {
   "cell_type": "code",
   "execution_count": 68,
   "id": "70cccda6",
   "metadata": {},
   "outputs": [
    {
     "data": {
      "text/plain": [
       "0         We enjoyed our stay very much. The room was co...\n",
       "1         We have been here 4 nights. Stay in a home is ...\n",
       "2         Teresa and Hughie were great hosts. They were ...\n",
       "3         No surprises, was as described.  Very gracious...\n",
       "4         Teresa was a lovely hostess, and we had a deli...\n",
       "                                ...                        \n",
       "243178             Ottima posizione, gentilezza e cortesia!\n",
       "243179    Jenny was able to get us in last minute and ex...\n",
       "243180    Very spacious; owners communicative. Only issu...\n",
       "243181    What a great host couple and great spot. Super...\n",
       "243182    Ana is a lovey host .<br/>There was an issue a...\n",
       "Name: comments, Length: 243183, dtype: object"
      ]
     },
     "execution_count": 68,
     "metadata": {},
     "output_type": "execute_result"
    }
   ],
   "source": [
    "df.comments.fillna(\"None\")"
   ]
  },
  {
   "cell_type": "code",
   "execution_count": 69,
   "id": "27a5b63e",
   "metadata": {},
   "outputs": [
    {
     "data": {
      "text/plain": [
       "18"
      ]
     },
     "execution_count": 69,
     "metadata": {},
     "output_type": "execute_result"
    }
   ],
   "source": [
    "df.comments.isna().sum()"
   ]
  },
  {
   "cell_type": "code",
   "execution_count": 70,
   "id": "fa4843cc",
   "metadata": {},
   "outputs": [],
   "source": [
    "df[\"comments\"].fillna(\"None\",inplace=True)"
   ]
  },
  {
   "cell_type": "code",
   "execution_count": 71,
   "id": "c6cb76c8",
   "metadata": {},
   "outputs": [
    {
     "data": {
      "text/plain": [
       "0"
      ]
     },
     "execution_count": 71,
     "metadata": {},
     "output_type": "execute_result"
    }
   ],
   "source": [
    "df.comments.isna().sum()"
   ]
  },
  {
   "cell_type": "code",
   "execution_count": 72,
   "id": "96755b2d",
   "metadata": {},
   "outputs": [],
   "source": [
    "A = df"
   ]
  },
  {
   "cell_type": "code",
   "execution_count": 73,
   "id": "8f32cbd7",
   "metadata": {},
   "outputs": [],
   "source": [
    "for i in range(0,len(df),1):\n",
    "    if len(df[\"comments\"][i]) > 5000:\n",
    "        df = df.drop(index=i)"
   ]
  },
  {
   "cell_type": "code",
   "execution_count": 74,
   "id": "6d1e2a24",
   "metadata": {},
   "outputs": [],
   "source": [
    "df.index = range(0,len(df),1)"
   ]
  },
  {
   "cell_type": "code",
   "execution_count": 75,
   "id": "38ed5001",
   "metadata": {},
   "outputs": [
    {
     "data": {
      "text/plain": [
       "False"
      ]
     },
     "execution_count": 75,
     "metadata": {},
     "output_type": "execute_result"
    }
   ],
   "source": [
    "len(df.comments[122134])>5"
   ]
  },
  {
   "cell_type": "code",
   "execution_count": 76,
   "id": "9d3aae1a",
   "metadata": {},
   "outputs": [],
   "source": [
    "import emoji"
   ]
  },
  {
   "cell_type": "code",
   "execution_count": 77,
   "id": "6e0488f5",
   "metadata": {},
   "outputs": [],
   "source": [
    "Translatedcomments = []"
   ]
  },
  {
   "cell_type": "code",
   "execution_count": null,
   "id": "794556f2",
   "metadata": {},
   "outputs": [],
   "source": [
    "for i in range(0,len(df),1):\n",
    "    if len(df[\"comments\"][i])<4:\n",
    "        Translatedcomments.append(df[\"comments\"][i])\n",
    "    else:\n",
    "        b = cld2.detect(df[\"comments\"][i])\n",
    "        langcode = b[2][0][1]\n",
    "        if langcode != 'en':\n",
    "            a = df.comments[i]\n",
    "            b = GoogleTranslator(source='auto', target='en').translate(df.comments[i])\n",
    "            b = emoji.demojize(b)\n",
    "            b = b.replace(\":\",\" \")\n",
    "            b = ' '.join(b.split())\n",
    "            Translatedcomments.append(b)\n",
    "            print(i,len(b),\"not in eng, so translated\")\n",
    "        else:\n",
    "            b = df.comments[i]\n",
    "            b = emoji.demojize(b)\n",
    "            b = b.replace(\":\",\" \")\n",
    "            b = ' '.join(b.split())\n",
    "            Translatedcomments.append(b)\n",
    "            print(i,len(b),\"english text\")"
   ]
  },
  {
   "cell_type": "code",
   "execution_count": 163,
   "id": "36d65bfc",
   "metadata": {},
   "outputs": [],
   "source": [
    "df[\"Translatedcomments\"] = Translatedcomments"
   ]
  },
  {
   "cell_type": "code",
   "execution_count": 164,
   "id": "a431925b",
   "metadata": {},
   "outputs": [],
   "source": [
    "df.to_csv(\"TranslatedCSV123.csv\")"
   ]
  },
  {
   "cell_type": "code",
   "execution_count": null,
   "id": "dd39a349",
   "metadata": {},
   "outputs": [],
   "source": []
  }
 ],
 "metadata": {
  "kernelspec": {
   "display_name": "Python 3 (ipykernel)",
   "language": "python",
   "name": "python3"
  },
  "language_info": {
   "codemirror_mode": {
    "name": "ipython",
    "version": 3
   },
   "file_extension": ".py",
   "mimetype": "text/x-python",
   "name": "python",
   "nbconvert_exporter": "python",
   "pygments_lexer": "ipython3",
   "version": "3.8.12"
  }
 },
 "nbformat": 4,
 "nbformat_minor": 5
}
